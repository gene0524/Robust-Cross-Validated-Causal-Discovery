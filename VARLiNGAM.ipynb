{
 "cells": [
  {
   "cell_type": "markdown",
   "metadata": {},
   "source": [
    "# VARLiNGAM"
   ]
  },
  {
   "cell_type": "markdown",
   "metadata": {},
   "source": [
    "## Import and settings\n",
    "In this example, we need to import `numpy`, `pandas`, and `graphviz` in addition to `lingam`."
   ]
  },
  {
   "cell_type": "code",
   "execution_count": 80,
   "metadata": {},
   "outputs": [
    {
     "name": "stdout",
     "output_type": "stream",
     "text": [
      "['1.24.4', '2.0.3', '0.20.3', '1.8.3']\n"
     ]
    }
   ],
   "source": [
    "import numpy as np\n",
    "import pandas as pd\n",
    "import graphviz\n",
    "import lingam\n",
    "from lingam.utils import make_dot, print_causal_directions, print_dagc\n",
    "\n",
    "print([np.__version__, pd.__version__, graphviz.__version__, lingam.__version__])\n",
    "\n",
    "np.set_printoptions(precision=3, suppress=True)\n",
    "np.random.seed(0)"
   ]
  },
  {
   "cell_type": "markdown",
   "metadata": {},
   "source": [
    "## Test data\n",
    "We create test data consisting of 5 variables."
   ]
  },
  {
   "cell_type": "code",
   "execution_count": 81,
   "metadata": {},
   "outputs": [],
   "source": [
    "B0 = [\n",
    "    [0,-0.12,0,0,0],\n",
    "    [0,0,0,0,0],\n",
    "    [-0.41,0.01,0,-0.02,0],\n",
    "    [0.04,-0.22,0,0,0],\n",
    "    [0.15,0,-0.03,0,0],\n",
    "]\n",
    "B1 = [\n",
    "    [-0.32,0,0.12,0.32,0],\n",
    "    [0,-0.35,-0.1,-0.46,0.4],\n",
    "    [0,0,0.37,0,0.46],\n",
    "    [-0.38,-0.1,-0.24,0,-0.13],\n",
    "    [0,0,0,0,0],\n",
    "]\n",
    "causal_order = [1, 0, 3, 2, 4]\n",
    "\n",
    "# data generated from B0 and B1\n",
    "X = pd.read_csv('data/sample_data_var_lingam.csv')"
   ]
  },
  {
   "cell_type": "markdown",
   "metadata": {},
   "source": [
    "## Causal Discovery\n",
    "To run causal discovery, we create a `VARLiNGAM` object and call the `fit` method."
   ]
  },
  {
   "cell_type": "code",
   "execution_count": 82,
   "metadata": {},
   "outputs": [
    {
     "data": {
      "text/plain": [
       "<lingam.var_lingam.VARLiNGAM at 0x7fea2ade6eb0>"
      ]
     },
     "execution_count": 82,
     "metadata": {},
     "output_type": "execute_result"
    }
   ],
   "source": [
    "model = lingam.VARLiNGAM()\n",
    "model.fit(X)"
   ]
  },
  {
   "cell_type": "markdown",
   "metadata": {},
   "source": [
    "Using the `causal_order_` properties, we can see the causal ordering as a result of the causal discovery."
   ]
  },
  {
   "cell_type": "code",
   "execution_count": 83,
   "metadata": {},
   "outputs": [
    {
     "data": {
      "text/plain": [
       "[1, 0, 3, 2, 4]"
      ]
     },
     "execution_count": 83,
     "metadata": {},
     "output_type": "execute_result"
    }
   ],
   "source": [
    "model.causal_order_"
   ]
  },
  {
   "cell_type": "markdown",
   "metadata": {},
   "source": [
    "Also, using the `adjacency_matrices_` properties, we can see the adjacency matrix as a result of the causal discovery."
   ]
  },
  {
   "cell_type": "code",
   "execution_count": 84,
   "metadata": {},
   "outputs": [
    {
     "data": {
      "text/plain": [
       "array([[ 0.   , -0.136,  0.   ,  0.   ,  0.   ],\n",
       "       [ 0.   ,  0.   ,  0.   ,  0.   ,  0.   ],\n",
       "       [-0.484,  0.   ,  0.   ,  0.   ,  0.   ],\n",
       "       [ 0.075, -0.21 ,  0.   ,  0.   ,  0.   ],\n",
       "       [ 0.168,  0.   ,  0.   ,  0.   ,  0.   ]])"
      ]
     },
     "execution_count": 84,
     "metadata": {},
     "output_type": "execute_result"
    }
   ],
   "source": [
    "# B0\n",
    "model.adjacency_matrices_[0]"
   ]
  },
  {
   "cell_type": "code",
   "execution_count": 85,
   "metadata": {},
   "outputs": [
    {
     "data": {
      "text/plain": [
       "array([[-0.358,  0.   ,  0.073,  0.302,  0.   ],\n",
       "       [ 0.   , -0.338, -0.154, -0.335,  0.423],\n",
       "       [ 0.   ,  0.   ,  0.424,  0.112,  0.493],\n",
       "       [-0.386, -0.1  , -0.266,  0.   , -0.159],\n",
       "       [ 0.   ,  0.   ,  0.   ,  0.   ,  0.   ]])"
      ]
     },
     "execution_count": 85,
     "metadata": {},
     "output_type": "execute_result"
    }
   ],
   "source": [
    "# B1\n",
    "model.adjacency_matrices_[1]"
   ]
  },
  {
   "cell_type": "code",
   "execution_count": 86,
   "metadata": {},
   "outputs": [
    {
     "data": {
      "text/plain": [
       "array([[-0.308,  0.911, -1.152, -1.159,  0.179],\n",
       "       [ 1.364,  1.713, -1.389, -0.265, -0.192],\n",
       "       [-0.861,  0.249,  0.479, -1.557, -0.462],\n",
       "       ...,\n",
       "       [-1.202,  1.819,  0.99 , -0.855, -0.127],\n",
       "       [-0.133,  1.23 , -0.445, -0.753,  1.096],\n",
       "       [-0.069,  0.558,  0.21 , -0.863, -0.189]])"
      ]
     },
     "execution_count": 86,
     "metadata": {},
     "output_type": "execute_result"
    }
   ],
   "source": [
    "model.residuals_"
   ]
  },
  {
   "cell_type": "markdown",
   "metadata": {},
   "source": [
    "Using `DirectLiNGAM` for the `residuals_` properties, we can calculate B0 matrix."
   ]
  },
  {
   "cell_type": "code",
   "execution_count": 87,
   "metadata": {},
   "outputs": [
    {
     "data": {
      "text/plain": [
       "array([[ 0.   , -0.144,  0.   ,  0.   ,  0.   ],\n",
       "       [ 0.   ,  0.   ,  0.   ,  0.   ,  0.   ],\n",
       "       [-0.456,  0.   ,  0.   ,  0.   ,  0.   ],\n",
       "       [ 0.   , -0.22 ,  0.   ,  0.   ,  0.   ],\n",
       "       [ 0.157,  0.   ,  0.   ,  0.   ,  0.   ]])"
      ]
     },
     "execution_count": 87,
     "metadata": {},
     "output_type": "execute_result"
    }
   ],
   "source": [
    "dlingam = lingam.DirectLiNGAM()\n",
    "dlingam.fit(model.residuals_)\n",
    "dlingam.adjacency_matrix_"
   ]
  },
  {
   "cell_type": "markdown",
   "metadata": {},
   "source": [
    "We can draw a causal graph by utility funciton."
   ]
  },
  {
   "cell_type": "code",
   "execution_count": 88,
   "metadata": {},
   "outputs": [
    {
     "data": {
      "image/svg+xml": [
       "<?xml version=\"1.0\" encoding=\"UTF-8\" standalone=\"no\"?>\n",
       "<!DOCTYPE svg PUBLIC \"-//W3C//DTD SVG 1.1//EN\"\n",
       " \"http://www.w3.org/Graphics/SVG/1.1/DTD/svg11.dtd\">\n",
       "<!-- Generated by graphviz version 11.0.0 (20240428.1522)\n",
       " -->\n",
       "<!-- Pages: 1 -->\n",
       "<svg width=\"549pt\" height=\"310pt\"\n",
       " viewBox=\"0.00 0.00 549.01 309.50\" xmlns=\"http://www.w3.org/2000/svg\" xmlns:xlink=\"http://www.w3.org/1999/xlink\">\n",
       "<g id=\"graph0\" class=\"graph\" transform=\"scale(1 1) rotate(0) translate(4 305.5)\">\n",
       "<polygon fill=\"white\" stroke=\"none\" points=\"-4,4 -4,-305.5 545.01,-305.5 545.01,4 -4,4\"/>\n",
       "<!-- x0(t) -->\n",
       "<g id=\"node1\" class=\"node\">\n",
       "<title>x0(t)</title>\n",
       "<ellipse fill=\"none\" stroke=\"black\" cx=\"214.51\" cy=\"-106.5\" rx=\"28.83\" ry=\"18\"/>\n",
       "<text text-anchor=\"middle\" x=\"214.51\" y=\"-101.45\" font-family=\"Times,serif\" font-size=\"14.00\">x0(t)</text>\n",
       "</g>\n",
       "<!-- x2(t) -->\n",
       "<g id=\"node3\" class=\"node\">\n",
       "<title>x2(t)</title>\n",
       "<ellipse fill=\"none\" stroke=\"black\" cx=\"110.51\" cy=\"-18\" rx=\"28.83\" ry=\"18\"/>\n",
       "<text text-anchor=\"middle\" x=\"110.51\" y=\"-12.95\" font-family=\"Times,serif\" font-size=\"14.00\">x2(t)</text>\n",
       "</g>\n",
       "<!-- x0(t)&#45;&gt;x2(t) -->\n",
       "<g id=\"edge9\" class=\"edge\">\n",
       "<title>x0(t)&#45;&gt;x2(t)</title>\n",
       "<path fill=\"none\" stroke=\"black\" d=\"M197.8,-91.6C181.12,-77.73 155.27,-56.23 136.03,-40.22\"/>\n",
       "<polygon fill=\"black\" stroke=\"black\" points=\"138.27,-37.53 128.34,-33.83 133.79,-42.92 138.27,-37.53\"/>\n",
       "<text text-anchor=\"middle\" x=\"185.76\" y=\"-57.2\" font-family=\"Times,serif\" font-size=\"14.00\">&#45;0.48</text>\n",
       "</g>\n",
       "<!-- x3(t) -->\n",
       "<g id=\"node4\" class=\"node\">\n",
       "<title>x3(t)</title>\n",
       "<ellipse fill=\"none\" stroke=\"black\" cx=\"384.51\" cy=\"-18\" rx=\"28.83\" ry=\"18\"/>\n",
       "<text text-anchor=\"middle\" x=\"384.51\" y=\"-12.95\" font-family=\"Times,serif\" font-size=\"14.00\">x3(t)</text>\n",
       "</g>\n",
       "<!-- x0(t)&#45;&gt;x3(t) -->\n",
       "<g id=\"edge13\" class=\"edge\">\n",
       "<title>x0(t)&#45;&gt;x3(t)</title>\n",
       "<path fill=\"none\" stroke=\"black\" d=\"M225.42,-89.84C234.19,-78.34 247.5,-63.2 262.51,-54 287.73,-38.54 320.04,-29.67 345.08,-24.73\"/>\n",
       "<polygon fill=\"black\" stroke=\"black\" points=\"345.67,-28.18 354.88,-22.94 344.42,-21.29 345.67,-28.18\"/>\n",
       "<text text-anchor=\"middle\" x=\"274.51\" y=\"-57.2\" font-family=\"Times,serif\" font-size=\"14.00\">0.07</text>\n",
       "</g>\n",
       "<!-- x4(t) -->\n",
       "<g id=\"node5\" class=\"node\">\n",
       "<title>x4(t)</title>\n",
       "<ellipse fill=\"none\" stroke=\"black\" cx=\"214.51\" cy=\"-18\" rx=\"28.83\" ry=\"18\"/>\n",
       "<text text-anchor=\"middle\" x=\"214.51\" y=\"-12.95\" font-family=\"Times,serif\" font-size=\"14.00\">x4(t)</text>\n",
       "</g>\n",
       "<!-- x0(t)&#45;&gt;x4(t) -->\n",
       "<g id=\"edge19\" class=\"edge\">\n",
       "<title>x0(t)&#45;&gt;x4(t)</title>\n",
       "<path fill=\"none\" stroke=\"black\" d=\"M214.51,-88.41C214.51,-76.76 214.51,-61.05 214.51,-47.52\"/>\n",
       "<polygon fill=\"black\" stroke=\"black\" points=\"218.01,-47.86 214.51,-37.86 211.01,-47.86 218.01,-47.86\"/>\n",
       "<text text-anchor=\"middle\" x=\"226.51\" y=\"-57.2\" font-family=\"Times,serif\" font-size=\"14.00\">0.17</text>\n",
       "</g>\n",
       "<!-- x1(t) -->\n",
       "<g id=\"node2\" class=\"node\">\n",
       "<title>x1(t)</title>\n",
       "<ellipse fill=\"none\" stroke=\"black\" cx=\"210.51\" cy=\"-195\" rx=\"28.83\" ry=\"18\"/>\n",
       "<text text-anchor=\"middle\" x=\"210.51\" y=\"-189.95\" font-family=\"Times,serif\" font-size=\"14.00\">x1(t)</text>\n",
       "</g>\n",
       "<!-- x1(t)&#45;&gt;x0(t) -->\n",
       "<g id=\"edge1\" class=\"edge\">\n",
       "<title>x1(t)&#45;&gt;x0(t)</title>\n",
       "<path fill=\"none\" stroke=\"black\" d=\"M210.83,-176.83C211.06,-166.81 211.43,-153.93 212.01,-142.5 212.11,-140.44 212.23,-138.32 212.36,-136.19\"/>\n",
       "<polygon fill=\"black\" stroke=\"black\" points=\"215.84,-136.66 213.02,-126.45 208.85,-136.19 215.84,-136.66\"/>\n",
       "<text text-anchor=\"middle\" x=\"225.76\" y=\"-145.7\" font-family=\"Times,serif\" font-size=\"14.00\">&#45;0.14</text>\n",
       "</g>\n",
       "<!-- x1(t)&#45;&gt;x3(t) -->\n",
       "<g id=\"edge14\" class=\"edge\">\n",
       "<title>x1(t)&#45;&gt;x3(t)</title>\n",
       "<path fill=\"none\" stroke=\"black\" d=\"M225.34,-179.08C255.78,-148.47 325.45,-78.4 361.68,-41.96\"/>\n",
       "<polygon fill=\"black\" stroke=\"black\" points=\"364.08,-44.52 368.64,-34.96 359.11,-39.58 364.08,-44.52\"/>\n",
       "<text text-anchor=\"middle\" x=\"328.76\" y=\"-101.45\" font-family=\"Times,serif\" font-size=\"14.00\">&#45;0.21</text>\n",
       "</g>\n",
       "<!-- x0(t&#45;1) -->\n",
       "<g id=\"node6\" class=\"node\">\n",
       "<title>x0(t&#45;1)</title>\n",
       "<ellipse fill=\"none\" stroke=\"black\" cx=\"355.51\" cy=\"-195\" rx=\"36.51\" ry=\"18\"/>\n",
       "<text text-anchor=\"middle\" x=\"355.51\" y=\"-189.95\" font-family=\"Times,serif\" font-size=\"14.00\">x0(t&#45;1)</text>\n",
       "</g>\n",
       "<!-- x0(t&#45;1)&#45;&gt;x0(t) -->\n",
       "<g id=\"edge2\" class=\"edge\">\n",
       "<title>x0(t&#45;1)&#45;&gt;x0(t)</title>\n",
       "<path fill=\"none\" stroke=\"black\" d=\"M337.58,-179C321.84,-165.99 300.02,-148.34 290.51,-142.5 277.42,-134.46 262.18,-127.09 248.8,-121.21\"/>\n",
       "<polygon fill=\"black\" stroke=\"black\" points=\"250.5,-118.13 239.93,-117.42 247.75,-124.57 250.5,-118.13\"/>\n",
       "<text text-anchor=\"middle\" x=\"324.76\" y=\"-145.7\" font-family=\"Times,serif\" font-size=\"14.00\">&#45;0.36</text>\n",
       "</g>\n",
       "<!-- x0(t&#45;1)&#45;&gt;x3(t) -->\n",
       "<g id=\"edge15\" class=\"edge\">\n",
       "<title>x0(t&#45;1)&#45;&gt;x3(t)</title>\n",
       "<path fill=\"none\" stroke=\"black\" d=\"M357.79,-176.78C360.62,-155.87 365.72,-119.52 371.01,-88.5 373.33,-74.91 376.2,-59.89 378.71,-47.3\"/>\n",
       "<polygon fill=\"black\" stroke=\"black\" points=\"382.12,-48.07 380.66,-37.58 375.26,-46.69 382.12,-48.07\"/>\n",
       "<text text-anchor=\"middle\" x=\"384.76\" y=\"-101.45\" font-family=\"Times,serif\" font-size=\"14.00\">&#45;0.39</text>\n",
       "</g>\n",
       "<!-- x1(t&#45;1) -->\n",
       "<g id=\"node7\" class=\"node\">\n",
       "<title>x1(t&#45;1)</title>\n",
       "<ellipse fill=\"none\" stroke=\"black\" cx=\"454.51\" cy=\"-283.5\" rx=\"36.51\" ry=\"18\"/>\n",
       "<text text-anchor=\"middle\" x=\"454.51\" y=\"-278.45\" font-family=\"Times,serif\" font-size=\"14.00\">x1(t&#45;1)</text>\n",
       "</g>\n",
       "<!-- x1(t&#45;1)&#45;&gt;x1(t) -->\n",
       "<g id=\"edge5\" class=\"edge\">\n",
       "<title>x1(t&#45;1)&#45;&gt;x1(t)</title>\n",
       "<path fill=\"none\" stroke=\"black\" d=\"M424.91,-272.57C385.78,-259.36 314.73,-235.09 254.51,-213 251.31,-211.83 247.98,-210.58 244.66,-209.33\"/>\n",
       "<polygon fill=\"black\" stroke=\"black\" points=\"246.21,-206.17 235.61,-205.87 243.7,-212.71 246.21,-206.17\"/>\n",
       "<text text-anchor=\"middle\" x=\"360.76\" y=\"-234.2\" font-family=\"Times,serif\" font-size=\"14.00\">&#45;0.34</text>\n",
       "</g>\n",
       "<!-- x1(t&#45;1)&#45;&gt;x3(t) -->\n",
       "<g id=\"edge16\" class=\"edge\">\n",
       "<title>x1(t&#45;1)&#45;&gt;x3(t)</title>\n",
       "<path fill=\"none\" stroke=\"black\" d=\"M468.07,-266.66C472.33,-260.95 476.66,-254.24 479.51,-247.5 512.96,-168.27 534.8,-119.87 479.51,-54 465.72,-37.57 443.48,-28.85 423.99,-24.22\"/>\n",
       "<polygon fill=\"black\" stroke=\"black\" points=\"424.9,-20.84 414.4,-22.25 423.49,-27.69 424.9,-20.84\"/>\n",
       "<text text-anchor=\"middle\" x=\"526.76\" y=\"-145.7\" font-family=\"Times,serif\" font-size=\"14.00\">&#45;0.10</text>\n",
       "</g>\n",
       "<!-- x2(t&#45;1) -->\n",
       "<g id=\"node8\" class=\"node\">\n",
       "<title>x2(t&#45;1)</title>\n",
       "<ellipse fill=\"none\" stroke=\"black\" cx=\"300.51\" cy=\"-283.5\" rx=\"36.51\" ry=\"18\"/>\n",
       "<text text-anchor=\"middle\" x=\"300.51\" y=\"-278.45\" font-family=\"Times,serif\" font-size=\"14.00\">x2(t&#45;1)</text>\n",
       "</g>\n",
       "<!-- x2(t&#45;1)&#45;&gt;x0(t) -->\n",
       "<g id=\"edge3\" class=\"edge\">\n",
       "<title>x2(t&#45;1)&#45;&gt;x0(t)</title>\n",
       "<path fill=\"none\" stroke=\"black\" d=\"M316.29,-267.1C325.11,-256.58 332.96,-242.52 325.51,-231 314.92,-214.63 299.99,-226.05 285.51,-213 258.58,-188.74 265.5,-172.05 244.51,-142.5 241.87,-138.79 238.93,-135 235.94,-131.35\"/>\n",
       "<polygon fill=\"black\" stroke=\"black\" points=\"238.7,-129.2 229.56,-123.84 233.37,-133.73 238.7,-129.2\"/>\n",
       "<text text-anchor=\"middle\" x=\"297.51\" y=\"-189.95\" font-family=\"Times,serif\" font-size=\"14.00\">0.07</text>\n",
       "</g>\n",
       "<!-- x2(t&#45;1)&#45;&gt;x1(t) -->\n",
       "<g id=\"edge6\" class=\"edge\">\n",
       "<title>x2(t&#45;1)&#45;&gt;x1(t)</title>\n",
       "<path fill=\"none\" stroke=\"black\" d=\"M275.71,-269.86C265.5,-263.93 253.99,-256.24 245.01,-247.5 237.47,-240.16 230.66,-230.92 225.12,-222.3\"/>\n",
       "<polygon fill=\"black\" stroke=\"black\" points=\"228.2,-220.63 220.01,-213.91 222.22,-224.27 228.2,-220.63\"/>\n",
       "<text text-anchor=\"middle\" x=\"258.76\" y=\"-234.2\" font-family=\"Times,serif\" font-size=\"14.00\">&#45;0.15</text>\n",
       "</g>\n",
       "<!-- x2(t&#45;1)&#45;&gt;x2(t) -->\n",
       "<g id=\"edge10\" class=\"edge\">\n",
       "<title>x2(t&#45;1)&#45;&gt;x2(t)</title>\n",
       "<path fill=\"none\" stroke=\"black\" d=\"M266.98,-275.83C228.82,-267.95 170.8,-254.96 163.51,-247.5 135.85,-219.22 119.64,-102.23 113.44,-47.49\"/>\n",
       "<polygon fill=\"black\" stroke=\"black\" points=\"116.94,-47.27 112.37,-37.71 109.98,-48.03 116.94,-47.27\"/>\n",
       "<text text-anchor=\"middle\" x=\"143.51\" y=\"-145.7\" font-family=\"Times,serif\" font-size=\"14.00\">0.42</text>\n",
       "</g>\n",
       "<!-- x2(t&#45;1)&#45;&gt;x3(t) -->\n",
       "<g id=\"edge17\" class=\"edge\">\n",
       "<title>x2(t&#45;1)&#45;&gt;x3(t)</title>\n",
       "<path fill=\"none\" stroke=\"black\" d=\"M332.8,-274.73C363.96,-265.47 409.93,-246.81 434.51,-213 476.11,-155.79 463.46,-114.91 427.51,-54 424,-48.05 419.08,-42.69 413.81,-38.05\"/>\n",
       "<polygon fill=\"black\" stroke=\"black\" points=\"416.02,-35.34 406.01,-31.89 411.69,-40.83 416.02,-35.34\"/>\n",
       "<text text-anchor=\"middle\" x=\"474.76\" y=\"-145.7\" font-family=\"Times,serif\" font-size=\"14.00\">&#45;0.27</text>\n",
       "</g>\n",
       "<!-- x3(t&#45;1) -->\n",
       "<g id=\"node9\" class=\"node\">\n",
       "<title>x3(t&#45;1)</title>\n",
       "<ellipse fill=\"none\" stroke=\"black\" cx=\"36.51\" cy=\"-283.5\" rx=\"36.51\" ry=\"18\"/>\n",
       "<text text-anchor=\"middle\" x=\"36.51\" y=\"-278.45\" font-family=\"Times,serif\" font-size=\"14.00\">x3(t&#45;1)</text>\n",
       "</g>\n",
       "<!-- x3(t&#45;1)&#45;&gt;x0(t) -->\n",
       "<g id=\"edge4\" class=\"edge\">\n",
       "<title>x3(t&#45;1)&#45;&gt;x0(t)</title>\n",
       "<path fill=\"none\" stroke=\"black\" d=\"M52.64,-267C76.85,-243.7 123.97,-198.18 163.51,-159 172.86,-149.74 183.08,-139.45 191.9,-130.52\"/>\n",
       "<polygon fill=\"black\" stroke=\"black\" points=\"194.26,-133.1 198.79,-123.53 189.28,-128.19 194.26,-133.1\"/>\n",
       "<text text-anchor=\"middle\" x=\"155.51\" y=\"-189.95\" font-family=\"Times,serif\" font-size=\"14.00\">0.30</text>\n",
       "</g>\n",
       "<!-- x3(t&#45;1)&#45;&gt;x1(t) -->\n",
       "<g id=\"edge7\" class=\"edge\">\n",
       "<title>x3(t&#45;1)&#45;&gt;x1(t)</title>\n",
       "<path fill=\"none\" stroke=\"black\" d=\"M60.63,-269.48C80.47,-258.87 109.39,-243.63 135.01,-231 148.81,-224.2 164.2,-216.99 177.47,-210.9\"/>\n",
       "<polygon fill=\"black\" stroke=\"black\" points=\"178.56,-214.25 186.2,-206.92 175.65,-207.89 178.56,-214.25\"/>\n",
       "<text text-anchor=\"middle\" x=\"149.76\" y=\"-234.2\" font-family=\"Times,serif\" font-size=\"14.00\">&#45;0.34</text>\n",
       "</g>\n",
       "<!-- x3(t&#45;1)&#45;&gt;x2(t) -->\n",
       "<g id=\"edge11\" class=\"edge\">\n",
       "<title>x3(t&#45;1)&#45;&gt;x2(t)</title>\n",
       "<path fill=\"none\" stroke=\"black\" d=\"M38.92,-265.08C42.8,-238.43 51.15,-186.04 62.51,-142.5 72.99,-102.31 76.3,-92.24 92.51,-54 93.65,-51.3 94.92,-48.53 96.23,-45.78\"/>\n",
       "<polygon fill=\"black\" stroke=\"black\" points=\"99.36,-47.35 100.71,-36.85 93.1,-44.22 99.36,-47.35\"/>\n",
       "<text text-anchor=\"middle\" x=\"74.51\" y=\"-145.7\" font-family=\"Times,serif\" font-size=\"14.00\">0.11</text>\n",
       "</g>\n",
       "<!-- x4(t&#45;1) -->\n",
       "<g id=\"node10\" class=\"node\">\n",
       "<title>x4(t&#45;1)</title>\n",
       "<ellipse fill=\"none\" stroke=\"black\" cx=\"171.51\" cy=\"-283.5\" rx=\"36.51\" ry=\"18\"/>\n",
       "<text text-anchor=\"middle\" x=\"171.51\" y=\"-278.45\" font-family=\"Times,serif\" font-size=\"14.00\">x4(t&#45;1)</text>\n",
       "</g>\n",
       "<!-- x4(t&#45;1)&#45;&gt;x1(t) -->\n",
       "<g id=\"edge8\" class=\"edge\">\n",
       "<title>x4(t&#45;1)&#45;&gt;x1(t)</title>\n",
       "<path fill=\"none\" stroke=\"black\" d=\"M168.58,-265.53C167.55,-255.12 167.66,-241.76 172.51,-231 174.93,-225.62 178.62,-220.69 182.76,-216.34\"/>\n",
       "<polygon fill=\"black\" stroke=\"black\" points=\"184.96,-219.07 189.96,-209.73 180.23,-213.91 184.96,-219.07\"/>\n",
       "<text text-anchor=\"middle\" x=\"184.51\" y=\"-234.2\" font-family=\"Times,serif\" font-size=\"14.00\">0.42</text>\n",
       "</g>\n",
       "<!-- x4(t&#45;1)&#45;&gt;x2(t) -->\n",
       "<g id=\"edge12\" class=\"edge\">\n",
       "<title>x4(t&#45;1)&#45;&gt;x2(t)</title>\n",
       "<path fill=\"none\" stroke=\"black\" d=\"M149.79,-268.76C141.95,-262.96 133.55,-255.66 127.51,-247.5 102.33,-213.52 100.43,-200.55 92.51,-159 85.16,-120.45 94.05,-75.36 101.74,-46.98\"/>\n",
       "<polygon fill=\"black\" stroke=\"black\" points=\"105.1,-47.95 104.49,-37.37 98.37,-46.02 105.1,-47.95\"/>\n",
       "<text text-anchor=\"middle\" x=\"104.51\" y=\"-145.7\" font-family=\"Times,serif\" font-size=\"14.00\">0.49</text>\n",
       "</g>\n",
       "<!-- x4(t&#45;1)&#45;&gt;x3(t) -->\n",
       "<g id=\"edge18\" class=\"edge\">\n",
       "<title>x4(t&#45;1)&#45;&gt;x3(t)</title>\n",
       "<path fill=\"none\" stroke=\"black\" d=\"M183.9,-266.53C194.19,-254.56 209.93,-238.92 227.51,-231 262.95,-215.03 375.47,-241.87 401.51,-213 442.99,-167 416.4,-87.49 397.91,-45.98\"/>\n",
       "<polygon fill=\"black\" stroke=\"black\" points=\"401.11,-44.55 393.73,-36.95 394.76,-47.5 401.11,-44.55\"/>\n",
       "<text text-anchor=\"middle\" x=\"436.76\" y=\"-145.7\" font-family=\"Times,serif\" font-size=\"14.00\">&#45;0.16</text>\n",
       "</g>\n",
       "</g>\n",
       "</svg>\n"
      ],
      "text/plain": [
       "<graphviz.graphs.Digraph at 0x7fea2ae09370>"
      ]
     },
     "execution_count": 88,
     "metadata": {},
     "output_type": "execute_result"
    }
   ],
   "source": [
    "labels = ['x0(t)', 'x1(t)', 'x2(t)', 'x3(t)', 'x4(t)', 'x0(t-1)', 'x1(t-1)', 'x2(t-1)', 'x3(t-1)', 'x4(t-1)']\n",
    "make_dot(np.hstack(model.adjacency_matrices_), ignore_shape=True, lower_limit=0.05, labels=labels)"
   ]
  },
  {
   "cell_type": "markdown",
   "metadata": {},
   "source": [
    "## Independence between error variables\n",
    "To check if the LiNGAM assumption is broken, we can get p-values of independence between error variables. The value in the i-th row and j-th column of the obtained matrix shows the p-value of the independence of the error variables $e_i$ and $e_j$."
   ]
  },
  {
   "cell_type": "code",
   "execution_count": 89,
   "metadata": {},
   "outputs": [
    {
     "name": "stdout",
     "output_type": "stream",
     "text": [
      "[[0.    0.127 0.104 0.042 0.746]\n",
      " [0.127 0.    0.086 0.874 0.739]\n",
      " [0.104 0.086 0.    0.404 0.136]\n",
      " [0.042 0.874 0.404 0.    0.763]\n",
      " [0.746 0.739 0.136 0.763 0.   ]]\n"
     ]
    }
   ],
   "source": [
    "p_values = model.get_error_independence_p_values()\n",
    "print(p_values)"
   ]
  },
  {
   "cell_type": "markdown",
   "metadata": {},
   "source": [
    "## Bootstrap"
   ]
  },
  {
   "cell_type": "markdown",
   "metadata": {},
   "source": [
    "### Bootstrapping\n",
    "We call `bootstrap()` method instead of `fit()`. Here, the second argument specifies the number of bootstrap sampling."
   ]
  },
  {
   "cell_type": "code",
   "execution_count": 90,
   "metadata": {},
   "outputs": [],
   "source": [
    "model = lingam.VARLiNGAM()\n",
    "result = model.bootstrap(X, n_sampling=100)"
   ]
  },
  {
   "cell_type": "markdown",
   "metadata": {},
   "source": [
    "## Causal Directions\n",
    "Since `BootstrapResult` object is returned, we can get the ranking of the causal directions extracted by `get_causal_direction_counts()` method. In the following sample code, `n_directions` option is limited to the causal directions of the top 8 rankings, and `min_causal_effect` option is limited to causal directions with a coefficient of 0.3 or more."
   ]
  },
  {
   "cell_type": "code",
   "execution_count": 91,
   "metadata": {},
   "outputs": [],
   "source": [
    "cdc = result.get_causal_direction_counts(n_directions=8, min_causal_effect=0.3, split_by_causal_effect_sign=True)"
   ]
  },
  {
   "cell_type": "markdown",
   "metadata": {},
   "source": [
    "We can check the result by utility function."
   ]
  },
  {
   "cell_type": "code",
   "execution_count": 92,
   "metadata": {},
   "outputs": [
    {
     "name": "stdout",
     "output_type": "stream",
     "text": [
      "x2(t) <--- x4(t-1) (b>0) (100.0%)\n",
      "x2(t) <--- x2(t-1) (b>0) (100.0%)\n",
      "x0(t) <--- x0(t-1) (b<0) (95.0%)\n",
      "x1(t) <--- x1(t-1) (b<0) (86.0%)\n",
      "x1(t) <--- x4(t-1) (b>0) (85.0%)\n",
      "x3(t) <--- x0(t-1) (b<0) (78.0%)\n",
      "x2(t) <--- x4(t) (b<0) (60.0%)\n",
      "x0(t) <--- x3(t-1) (b>0) (48.0%)\n"
     ]
    }
   ],
   "source": [
    "print_causal_directions(cdc, 100, labels=labels)"
   ]
  },
  {
   "cell_type": "markdown",
   "metadata": {},
   "source": [
    "## Directed Acyclic Graphs\n",
    "Also, using the `get_directed_acyclic_graph_counts()` method, we can get the ranking of the DAGs extracted. In the following sample code, `n_dags` option is limited to the dags of the top 3 rankings, and `min_causal_effect` option is limited to causal directions with a coefficient of 0.2 or more."
   ]
  },
  {
   "cell_type": "code",
   "execution_count": 93,
   "metadata": {},
   "outputs": [],
   "source": [
    "dagc = result.get_directed_acyclic_graph_counts(n_dags=3, min_causal_effect=0.2, split_by_causal_effect_sign=True)"
   ]
  },
  {
   "cell_type": "markdown",
   "metadata": {},
   "source": [
    "We can check the result by utility function."
   ]
  },
  {
   "cell_type": "code",
   "execution_count": 94,
   "metadata": {},
   "outputs": [
    {
     "name": "stdout",
     "output_type": "stream",
     "text": [
      "DAG[0]: 5.0%\n",
      "\tx0(t) <--- x0(t-1) (b<0)\n",
      "\tx0(t) <--- x3(t-1) (b>0)\n",
      "\tx1(t) <--- x0(t) (b<0)\n",
      "\tx1(t) <--- x0(t-1) (b<0)\n",
      "\tx1(t) <--- x1(t-1) (b<0)\n",
      "\tx1(t) <--- x4(t-1) (b>0)\n",
      "\tx2(t) <--- x0(t) (b<0)\n",
      "\tx2(t) <--- x4(t) (b<0)\n",
      "\tx2(t) <--- x2(t-1) (b>0)\n",
      "\tx2(t) <--- x4(t-1) (b>0)\n",
      "\tx3(t) <--- x0(t) (b>0)\n",
      "\tx3(t) <--- x0(t-1) (b<0)\n",
      "\tx3(t) <--- x2(t-1) (b<0)\n",
      "\tx3(t) <--- x4(t-1) (b<0)\n",
      "DAG[1]: 5.0%\n",
      "\tx0(t) <--- x0(t-1) (b<0)\n",
      "\tx0(t) <--- x3(t-1) (b>0)\n",
      "\tx1(t) <--- x0(t) (b<0)\n",
      "\tx1(t) <--- x2(t) (b>0)\n",
      "\tx1(t) <--- x0(t-1) (b<0)\n",
      "\tx1(t) <--- x1(t-1) (b<0)\n",
      "\tx1(t) <--- x4(t-1) (b>0)\n",
      "\tx2(t) <--- x0(t) (b<0)\n",
      "\tx2(t) <--- x4(t) (b<0)\n",
      "\tx2(t) <--- x2(t-1) (b>0)\n",
      "\tx2(t) <--- x4(t-1) (b>0)\n",
      "\tx3(t) <--- x0(t) (b>0)\n",
      "\tx3(t) <--- x0(t-1) (b<0)\n",
      "\tx3(t) <--- x2(t-1) (b<0)\n",
      "DAG[2]: 5.0%\n",
      "\tx0(t) <--- x0(t-1) (b<0)\n",
      "\tx0(t) <--- x3(t-1) (b>0)\n",
      "\tx1(t) <--- x1(t-1) (b<0)\n",
      "\tx1(t) <--- x3(t-1) (b<0)\n",
      "\tx1(t) <--- x4(t-1) (b>0)\n",
      "\tx2(t) <--- x1(t) (b>0)\n",
      "\tx2(t) <--- x3(t) (b>0)\n",
      "\tx2(t) <--- x0(t-1) (b>0)\n",
      "\tx2(t) <--- x2(t-1) (b>0)\n",
      "\tx2(t) <--- x4(t-1) (b>0)\n",
      "\tx3(t) <--- x1(t) (b<0)\n",
      "\tx3(t) <--- x0(t-1) (b<0)\n",
      "\tx3(t) <--- x2(t-1) (b<0)\n"
     ]
    }
   ],
   "source": [
    "print_dagc(dagc, 100, labels=labels)"
   ]
  },
  {
   "cell_type": "markdown",
   "metadata": {},
   "source": [
    "## Probability\n",
    "Using the `get_probabilities()` method, we can get the probability of bootstrapping."
   ]
  },
  {
   "cell_type": "code",
   "execution_count": 95,
   "metadata": {},
   "outputs": [
    {
     "name": "stdout",
     "output_type": "stream",
     "text": [
      "Probability of B0:\n",
      " [[0.   0.6  0.04 0.06 0.14]\n",
      " [0.39 0.   0.25 0.18 0.16]\n",
      " [0.65 0.68 0.   0.67 0.84]\n",
      " [0.51 0.6  0.07 0.   0.66]\n",
      " [0.35 0.28 0.01 0.09 0.  ]]\n",
      "Probability of B1:\n",
      " [[1.   0.   0.3  1.   0.02]\n",
      " [0.56 1.   0.94 0.67 1.  ]\n",
      " [0.8  0.02 1.   0.25 1.  ]\n",
      " [1.   0.24 1.   0.08 1.  ]\n",
      " [0.02 0.   0.03 0.07 0.  ]]\n"
     ]
    }
   ],
   "source": [
    "prob = result.get_probabilities(min_causal_effect=0.1)\n",
    "print('Probability of B0:\\n', prob[0])\n",
    "print('Probability of B1:\\n', prob[1])"
   ]
  },
  {
   "cell_type": "markdown",
   "metadata": {},
   "source": [
    "## Total Causal Effects\n",
    "Using the `get_causal_effects()` method, we can get the list of total causal effect. The total causal effects we can get are dictionary type variable.\n",
    "We can display the list nicely by assigning it to pandas.DataFrame. Also, we have replaced the variable index with a label below."
   ]
  },
  {
   "cell_type": "code",
   "execution_count": 96,
   "metadata": {},
   "outputs": [
    {
     "data": {
      "text/html": [
       "<div>\n",
       "<style scoped>\n",
       "    .dataframe tbody tr th:only-of-type {\n",
       "        vertical-align: middle;\n",
       "    }\n",
       "\n",
       "    .dataframe tbody tr th {\n",
       "        vertical-align: top;\n",
       "    }\n",
       "\n",
       "    .dataframe thead th {\n",
       "        text-align: right;\n",
       "    }\n",
       "</style>\n",
       "<table border=\"1\" class=\"dataframe\">\n",
       "  <thead>\n",
       "    <tr style=\"text-align: right;\">\n",
       "      <th></th>\n",
       "      <th>from</th>\n",
       "      <th>to</th>\n",
       "      <th>effect</th>\n",
       "      <th>probability</th>\n",
       "    </tr>\n",
       "  </thead>\n",
       "  <tbody>\n",
       "    <tr>\n",
       "      <th>0</th>\n",
       "      <td>x0(t-1)</td>\n",
       "      <td>x2(t)</td>\n",
       "      <td>0.181032</td>\n",
       "      <td>1.00</td>\n",
       "    </tr>\n",
       "    <tr>\n",
       "      <th>1</th>\n",
       "      <td>x2(t-1)</td>\n",
       "      <td>x2(t)</td>\n",
       "      <td>0.388777</td>\n",
       "      <td>1.00</td>\n",
       "    </tr>\n",
       "    <tr>\n",
       "      <th>2</th>\n",
       "      <td>x4(t-1)</td>\n",
       "      <td>x1(t)</td>\n",
       "      <td>0.427308</td>\n",
       "      <td>1.00</td>\n",
       "    </tr>\n",
       "    <tr>\n",
       "      <th>3</th>\n",
       "      <td>x1(t-1)</td>\n",
       "      <td>x1(t)</td>\n",
       "      <td>-0.338691</td>\n",
       "      <td>1.00</td>\n",
       "    </tr>\n",
       "    <tr>\n",
       "      <th>4</th>\n",
       "      <td>x0(t-1)</td>\n",
       "      <td>x3(t)</td>\n",
       "      <td>-0.397439</td>\n",
       "      <td>1.00</td>\n",
       "    </tr>\n",
       "    <tr>\n",
       "      <th>5</th>\n",
       "      <td>x3(t-1)</td>\n",
       "      <td>x0(t)</td>\n",
       "      <td>0.345461</td>\n",
       "      <td>1.00</td>\n",
       "    </tr>\n",
       "    <tr>\n",
       "      <th>6</th>\n",
       "      <td>x4(t-1)</td>\n",
       "      <td>x2(t)</td>\n",
       "      <td>0.501859</td>\n",
       "      <td>1.00</td>\n",
       "    </tr>\n",
       "    <tr>\n",
       "      <th>7</th>\n",
       "      <td>x4(t-1)</td>\n",
       "      <td>x3(t)</td>\n",
       "      <td>-0.253700</td>\n",
       "      <td>1.00</td>\n",
       "    </tr>\n",
       "    <tr>\n",
       "      <th>8</th>\n",
       "      <td>x0(t-1)</td>\n",
       "      <td>x0(t)</td>\n",
       "      <td>-0.357296</td>\n",
       "      <td>1.00</td>\n",
       "    </tr>\n",
       "    <tr>\n",
       "      <th>9</th>\n",
       "      <td>x2(t-1)</td>\n",
       "      <td>x3(t)</td>\n",
       "      <td>-0.222886</td>\n",
       "      <td>1.00</td>\n",
       "    </tr>\n",
       "    <tr>\n",
       "      <th>10</th>\n",
       "      <td>x3(t-1)</td>\n",
       "      <td>x3(t)</td>\n",
       "      <td>0.101008</td>\n",
       "      <td>1.00</td>\n",
       "    </tr>\n",
       "    <tr>\n",
       "      <th>11</th>\n",
       "      <td>x3(t-1)</td>\n",
       "      <td>x1(t)</td>\n",
       "      <td>-0.315462</td>\n",
       "      <td>0.99</td>\n",
       "    </tr>\n",
       "    <tr>\n",
       "      <th>12</th>\n",
       "      <td>x2(t-1)</td>\n",
       "      <td>x0(t)</td>\n",
       "      <td>0.090369</td>\n",
       "      <td>0.99</td>\n",
       "    </tr>\n",
       "    <tr>\n",
       "      <th>13</th>\n",
       "      <td>x2(t-1)</td>\n",
       "      <td>x1(t)</td>\n",
       "      <td>-0.172693</td>\n",
       "      <td>0.98</td>\n",
       "    </tr>\n",
       "    <tr>\n",
       "      <th>14</th>\n",
       "      <td>x1(t-1)</td>\n",
       "      <td>x2(t)</td>\n",
       "      <td>-0.063602</td>\n",
       "      <td>0.89</td>\n",
       "    </tr>\n",
       "    <tr>\n",
       "      <th>15</th>\n",
       "      <td>x4(t)</td>\n",
       "      <td>x2(t)</td>\n",
       "      <td>-0.449165</td>\n",
       "      <td>0.89</td>\n",
       "    </tr>\n",
       "    <tr>\n",
       "      <th>16</th>\n",
       "      <td>x3(t-1)</td>\n",
       "      <td>x2(t)</td>\n",
       "      <td>-0.079600</td>\n",
       "      <td>0.89</td>\n",
       "    </tr>\n",
       "    <tr>\n",
       "      <th>17</th>\n",
       "      <td>x0(t)</td>\n",
       "      <td>x2(t)</td>\n",
       "      <td>-0.280635</td>\n",
       "      <td>0.83</td>\n",
       "    </tr>\n",
       "    <tr>\n",
       "      <th>18</th>\n",
       "      <td>x1(t-1)</td>\n",
       "      <td>x0(t)</td>\n",
       "      <td>0.057164</td>\n",
       "      <td>0.82</td>\n",
       "    </tr>\n",
       "    <tr>\n",
       "      <th>19</th>\n",
       "      <td>x4(t-1)</td>\n",
       "      <td>x0(t)</td>\n",
       "      <td>-0.050805</td>\n",
       "      <td>0.79</td>\n",
       "    </tr>\n",
       "    <tr>\n",
       "      <th>20</th>\n",
       "      <td>x4(t)</td>\n",
       "      <td>x3(t)</td>\n",
       "      <td>-0.151835</td>\n",
       "      <td>0.76</td>\n",
       "    </tr>\n",
       "    <tr>\n",
       "      <th>21</th>\n",
       "      <td>x1(t)</td>\n",
       "      <td>x2(t)</td>\n",
       "      <td>0.211957</td>\n",
       "      <td>0.75</td>\n",
       "    </tr>\n",
       "    <tr>\n",
       "      <th>22</th>\n",
       "      <td>x1(t-1)</td>\n",
       "      <td>x3(t)</td>\n",
       "      <td>-0.021313</td>\n",
       "      <td>0.75</td>\n",
       "    </tr>\n",
       "    <tr>\n",
       "      <th>23</th>\n",
       "      <td>x3(t)</td>\n",
       "      <td>x2(t)</td>\n",
       "      <td>0.248101</td>\n",
       "      <td>0.66</td>\n",
       "    </tr>\n",
       "    <tr>\n",
       "      <th>24</th>\n",
       "      <td>x0(t)</td>\n",
       "      <td>x3(t)</td>\n",
       "      <td>0.259859</td>\n",
       "      <td>0.64</td>\n",
       "    </tr>\n",
       "    <tr>\n",
       "      <th>25</th>\n",
       "      <td>x3(t-1)</td>\n",
       "      <td>x4(t)</td>\n",
       "      <td>0.061849</td>\n",
       "      <td>0.62</td>\n",
       "    </tr>\n",
       "    <tr>\n",
       "      <th>26</th>\n",
       "      <td>x1(t)</td>\n",
       "      <td>x3(t)</td>\n",
       "      <td>-0.218490</td>\n",
       "      <td>0.62</td>\n",
       "    </tr>\n",
       "    <tr>\n",
       "      <th>27</th>\n",
       "      <td>x1(t)</td>\n",
       "      <td>x0(t)</td>\n",
       "      <td>-0.199704</td>\n",
       "      <td>0.61</td>\n",
       "    </tr>\n",
       "    <tr>\n",
       "      <th>28</th>\n",
       "      <td>x1(t)</td>\n",
       "      <td>x4(t)</td>\n",
       "      <td>-0.104466</td>\n",
       "      <td>0.56</td>\n",
       "    </tr>\n",
       "    <tr>\n",
       "      <th>29</th>\n",
       "      <td>x0(t-1)</td>\n",
       "      <td>x1(t)</td>\n",
       "      <td>-0.119971</td>\n",
       "      <td>0.53</td>\n",
       "    </tr>\n",
       "    <tr>\n",
       "      <th>30</th>\n",
       "      <td>x2(t-1)</td>\n",
       "      <td>x4(t)</td>\n",
       "      <td>0.017608</td>\n",
       "      <td>0.50</td>\n",
       "    </tr>\n",
       "    <tr>\n",
       "      <th>31</th>\n",
       "      <td>x4(t-1)</td>\n",
       "      <td>x4(t)</td>\n",
       "      <td>-0.041991</td>\n",
       "      <td>0.47</td>\n",
       "    </tr>\n",
       "    <tr>\n",
       "      <th>32</th>\n",
       "      <td>x1(t-1)</td>\n",
       "      <td>x4(t)</td>\n",
       "      <td>0.029382</td>\n",
       "      <td>0.42</td>\n",
       "    </tr>\n",
       "    <tr>\n",
       "      <th>33</th>\n",
       "      <td>x0(t-1)</td>\n",
       "      <td>x4(t)</td>\n",
       "      <td>-0.055934</td>\n",
       "      <td>0.42</td>\n",
       "    </tr>\n",
       "    <tr>\n",
       "      <th>34</th>\n",
       "      <td>x4(t)</td>\n",
       "      <td>x1(t)</td>\n",
       "      <td>-0.063677</td>\n",
       "      <td>0.42</td>\n",
       "    </tr>\n",
       "    <tr>\n",
       "      <th>35</th>\n",
       "      <td>x4(t)</td>\n",
       "      <td>x0(t)</td>\n",
       "      <td>-0.066867</td>\n",
       "      <td>0.40</td>\n",
       "    </tr>\n",
       "    <tr>\n",
       "      <th>36</th>\n",
       "      <td>x0(t)</td>\n",
       "      <td>x1(t)</td>\n",
       "      <td>-0.719255</td>\n",
       "      <td>0.39</td>\n",
       "    </tr>\n",
       "    <tr>\n",
       "      <th>37</th>\n",
       "      <td>x0(t)</td>\n",
       "      <td>x4(t)</td>\n",
       "      <td>0.174717</td>\n",
       "      <td>0.37</td>\n",
       "    </tr>\n",
       "    <tr>\n",
       "      <th>38</th>\n",
       "      <td>x2(t)</td>\n",
       "      <td>x1(t)</td>\n",
       "      <td>0.212699</td>\n",
       "      <td>0.25</td>\n",
       "    </tr>\n",
       "    <tr>\n",
       "      <th>39</th>\n",
       "      <td>x3(t)</td>\n",
       "      <td>x1(t)</td>\n",
       "      <td>-0.308596</td>\n",
       "      <td>0.20</td>\n",
       "    </tr>\n",
       "    <tr>\n",
       "      <th>40</th>\n",
       "      <td>x2(t)</td>\n",
       "      <td>x3(t)</td>\n",
       "      <td>-0.084192</td>\n",
       "      <td>0.18</td>\n",
       "    </tr>\n",
       "    <tr>\n",
       "      <th>41</th>\n",
       "      <td>x3(t)</td>\n",
       "      <td>x0(t)</td>\n",
       "      <td>0.154238</td>\n",
       "      <td>0.11</td>\n",
       "    </tr>\n",
       "    <tr>\n",
       "      <th>42</th>\n",
       "      <td>x3(t)</td>\n",
       "      <td>x4(t)</td>\n",
       "      <td>-0.205918</td>\n",
       "      <td>0.10</td>\n",
       "    </tr>\n",
       "    <tr>\n",
       "      <th>43</th>\n",
       "      <td>x2(t)</td>\n",
       "      <td>x0(t)</td>\n",
       "      <td>-0.217316</td>\n",
       "      <td>0.06</td>\n",
       "    </tr>\n",
       "    <tr>\n",
       "      <th>44</th>\n",
       "      <td>x2(t)</td>\n",
       "      <td>x4(t)</td>\n",
       "      <td>-0.093614</td>\n",
       "      <td>0.03</td>\n",
       "    </tr>\n",
       "  </tbody>\n",
       "</table>\n",
       "</div>"
      ],
      "text/plain": [
       "       from     to    effect  probability\n",
       "0   x0(t-1)  x2(t)  0.181032         1.00\n",
       "1   x2(t-1)  x2(t)  0.388777         1.00\n",
       "2   x4(t-1)  x1(t)  0.427308         1.00\n",
       "3   x1(t-1)  x1(t) -0.338691         1.00\n",
       "4   x0(t-1)  x3(t) -0.397439         1.00\n",
       "5   x3(t-1)  x0(t)  0.345461         1.00\n",
       "6   x4(t-1)  x2(t)  0.501859         1.00\n",
       "7   x4(t-1)  x3(t) -0.253700         1.00\n",
       "8   x0(t-1)  x0(t) -0.357296         1.00\n",
       "9   x2(t-1)  x3(t) -0.222886         1.00\n",
       "10  x3(t-1)  x3(t)  0.101008         1.00\n",
       "11  x3(t-1)  x1(t) -0.315462         0.99\n",
       "12  x2(t-1)  x0(t)  0.090369         0.99\n",
       "13  x2(t-1)  x1(t) -0.172693         0.98\n",
       "14  x1(t-1)  x2(t) -0.063602         0.89\n",
       "15    x4(t)  x2(t) -0.449165         0.89\n",
       "16  x3(t-1)  x2(t) -0.079600         0.89\n",
       "17    x0(t)  x2(t) -0.280635         0.83\n",
       "18  x1(t-1)  x0(t)  0.057164         0.82\n",
       "19  x4(t-1)  x0(t) -0.050805         0.79\n",
       "20    x4(t)  x3(t) -0.151835         0.76\n",
       "21    x1(t)  x2(t)  0.211957         0.75\n",
       "22  x1(t-1)  x3(t) -0.021313         0.75\n",
       "23    x3(t)  x2(t)  0.248101         0.66\n",
       "24    x0(t)  x3(t)  0.259859         0.64\n",
       "25  x3(t-1)  x4(t)  0.061849         0.62\n",
       "26    x1(t)  x3(t) -0.218490         0.62\n",
       "27    x1(t)  x0(t) -0.199704         0.61\n",
       "28    x1(t)  x4(t) -0.104466         0.56\n",
       "29  x0(t-1)  x1(t) -0.119971         0.53\n",
       "30  x2(t-1)  x4(t)  0.017608         0.50\n",
       "31  x4(t-1)  x4(t) -0.041991         0.47\n",
       "32  x1(t-1)  x4(t)  0.029382         0.42\n",
       "33  x0(t-1)  x4(t) -0.055934         0.42\n",
       "34    x4(t)  x1(t) -0.063677         0.42\n",
       "35    x4(t)  x0(t) -0.066867         0.40\n",
       "36    x0(t)  x1(t) -0.719255         0.39\n",
       "37    x0(t)  x4(t)  0.174717         0.37\n",
       "38    x2(t)  x1(t)  0.212699         0.25\n",
       "39    x3(t)  x1(t) -0.308596         0.20\n",
       "40    x2(t)  x3(t) -0.084192         0.18\n",
       "41    x3(t)  x0(t)  0.154238         0.11\n",
       "42    x3(t)  x4(t) -0.205918         0.10\n",
       "43    x2(t)  x0(t) -0.217316         0.06\n",
       "44    x2(t)  x4(t) -0.093614         0.03"
      ]
     },
     "execution_count": 96,
     "metadata": {},
     "output_type": "execute_result"
    }
   ],
   "source": [
    "causal_effects = result.get_total_causal_effects(min_causal_effect=0.01)\n",
    "df = pd.DataFrame(causal_effects)\n",
    "\n",
    "df['from'] = df['from'].apply(lambda x : labels[x])\n",
    "df['to'] = df['to'].apply(lambda x : labels[x])\n",
    "df"
   ]
  },
  {
   "cell_type": "markdown",
   "metadata": {},
   "source": [
    "We can easily perform sorting operations with pandas.DataFrame."
   ]
  },
  {
   "cell_type": "code",
   "execution_count": 97,
   "metadata": {},
   "outputs": [
    {
     "data": {
      "text/html": [
       "<div>\n",
       "<style scoped>\n",
       "    .dataframe tbody tr th:only-of-type {\n",
       "        vertical-align: middle;\n",
       "    }\n",
       "\n",
       "    .dataframe tbody tr th {\n",
       "        vertical-align: top;\n",
       "    }\n",
       "\n",
       "    .dataframe thead th {\n",
       "        text-align: right;\n",
       "    }\n",
       "</style>\n",
       "<table border=\"1\" class=\"dataframe\">\n",
       "  <thead>\n",
       "    <tr style=\"text-align: right;\">\n",
       "      <th></th>\n",
       "      <th>from</th>\n",
       "      <th>to</th>\n",
       "      <th>effect</th>\n",
       "      <th>probability</th>\n",
       "    </tr>\n",
       "  </thead>\n",
       "  <tbody>\n",
       "    <tr>\n",
       "      <th>6</th>\n",
       "      <td>x4(t-1)</td>\n",
       "      <td>x2(t)</td>\n",
       "      <td>0.501859</td>\n",
       "      <td>1.00</td>\n",
       "    </tr>\n",
       "    <tr>\n",
       "      <th>2</th>\n",
       "      <td>x4(t-1)</td>\n",
       "      <td>x1(t)</td>\n",
       "      <td>0.427308</td>\n",
       "      <td>1.00</td>\n",
       "    </tr>\n",
       "    <tr>\n",
       "      <th>1</th>\n",
       "      <td>x2(t-1)</td>\n",
       "      <td>x2(t)</td>\n",
       "      <td>0.388777</td>\n",
       "      <td>1.00</td>\n",
       "    </tr>\n",
       "    <tr>\n",
       "      <th>5</th>\n",
       "      <td>x3(t-1)</td>\n",
       "      <td>x0(t)</td>\n",
       "      <td>0.345461</td>\n",
       "      <td>1.00</td>\n",
       "    </tr>\n",
       "    <tr>\n",
       "      <th>24</th>\n",
       "      <td>x0(t)</td>\n",
       "      <td>x3(t)</td>\n",
       "      <td>0.259859</td>\n",
       "      <td>0.64</td>\n",
       "    </tr>\n",
       "  </tbody>\n",
       "</table>\n",
       "</div>"
      ],
      "text/plain": [
       "       from     to    effect  probability\n",
       "6   x4(t-1)  x2(t)  0.501859         1.00\n",
       "2   x4(t-1)  x1(t)  0.427308         1.00\n",
       "1   x2(t-1)  x2(t)  0.388777         1.00\n",
       "5   x3(t-1)  x0(t)  0.345461         1.00\n",
       "24    x0(t)  x3(t)  0.259859         0.64"
      ]
     },
     "execution_count": 97,
     "metadata": {},
     "output_type": "execute_result"
    }
   ],
   "source": [
    "df.sort_values('effect', ascending=False).head()"
   ]
  },
  {
   "cell_type": "markdown",
   "metadata": {},
   "source": [
    "And with pandas.DataFrame, we can easily filter by keywords. The following code extracts the causal direction towards x1(t)."
   ]
  },
  {
   "cell_type": "code",
   "execution_count": 98,
   "metadata": {},
   "outputs": [
    {
     "data": {
      "text/html": [
       "<div>\n",
       "<style scoped>\n",
       "    .dataframe tbody tr th:only-of-type {\n",
       "        vertical-align: middle;\n",
       "    }\n",
       "\n",
       "    .dataframe tbody tr th {\n",
       "        vertical-align: top;\n",
       "    }\n",
       "\n",
       "    .dataframe thead th {\n",
       "        text-align: right;\n",
       "    }\n",
       "</style>\n",
       "<table border=\"1\" class=\"dataframe\">\n",
       "  <thead>\n",
       "    <tr style=\"text-align: right;\">\n",
       "      <th></th>\n",
       "      <th>from</th>\n",
       "      <th>to</th>\n",
       "      <th>effect</th>\n",
       "      <th>probability</th>\n",
       "    </tr>\n",
       "  </thead>\n",
       "  <tbody>\n",
       "    <tr>\n",
       "      <th>2</th>\n",
       "      <td>x4(t-1)</td>\n",
       "      <td>x1(t)</td>\n",
       "      <td>0.427308</td>\n",
       "      <td>1.00</td>\n",
       "    </tr>\n",
       "    <tr>\n",
       "      <th>3</th>\n",
       "      <td>x1(t-1)</td>\n",
       "      <td>x1(t)</td>\n",
       "      <td>-0.338691</td>\n",
       "      <td>1.00</td>\n",
       "    </tr>\n",
       "    <tr>\n",
       "      <th>11</th>\n",
       "      <td>x3(t-1)</td>\n",
       "      <td>x1(t)</td>\n",
       "      <td>-0.315462</td>\n",
       "      <td>0.99</td>\n",
       "    </tr>\n",
       "    <tr>\n",
       "      <th>13</th>\n",
       "      <td>x2(t-1)</td>\n",
       "      <td>x1(t)</td>\n",
       "      <td>-0.172693</td>\n",
       "      <td>0.98</td>\n",
       "    </tr>\n",
       "    <tr>\n",
       "      <th>29</th>\n",
       "      <td>x0(t-1)</td>\n",
       "      <td>x1(t)</td>\n",
       "      <td>-0.119971</td>\n",
       "      <td>0.53</td>\n",
       "    </tr>\n",
       "  </tbody>\n",
       "</table>\n",
       "</div>"
      ],
      "text/plain": [
       "       from     to    effect  probability\n",
       "2   x4(t-1)  x1(t)  0.427308         1.00\n",
       "3   x1(t-1)  x1(t) -0.338691         1.00\n",
       "11  x3(t-1)  x1(t) -0.315462         0.99\n",
       "13  x2(t-1)  x1(t) -0.172693         0.98\n",
       "29  x0(t-1)  x1(t) -0.119971         0.53"
      ]
     },
     "execution_count": 98,
     "metadata": {},
     "output_type": "execute_result"
    }
   ],
   "source": [
    "df[df['to']=='x1(t)'].head()"
   ]
  },
  {
   "cell_type": "markdown",
   "metadata": {},
   "source": [
    "Because it holds the raw data of the total causal effect (the original data for calculating the median), it is possible to draw a histogram of the values of the causal effect, as shown below."
   ]
  },
  {
   "cell_type": "code",
   "execution_count": 99,
   "metadata": {},
   "outputs": [
    {
     "data": {
      "text/plain": [
       "(array([ 1.,  3.,  3., 10., 17., 15., 29., 15.,  6.,  1.]),\n",
       " array([0.281, 0.299, 0.317, 0.335, 0.353, 0.371, 0.389, 0.407, 0.424,\n",
       "        0.442, 0.46 ]),\n",
       " <BarContainer object of 10 artists>)"
      ]
     },
     "execution_count": 99,
     "metadata": {},
     "output_type": "execute_result"
    },
    {
     "data": {
      "image/png": "[encoded data removed]",
      "text/plain": [
       "<Figure size 640x480 with 1 Axes>"
      ]
     },
     "metadata": {},
     "output_type": "display_data"
    }
   ],
   "source": [
    "import matplotlib.pyplot as plt\n",
    "import seaborn as sns\n",
    "sns.set()\n",
    "\n",
    "from_index = 7 # index of x2(t-1). (index:2)+(n_features:5)*(lag:1) = 7\n",
    "to_index = 2 # index of x2(t). (index:2)+(n_features:5)*(lag:0) = 2\n",
    "plt.hist(result.total_effects_[:, to_index, from_index])"
   ]
  },
  {
   "cell_type": "code",
   "execution_count": null,
   "metadata": {},
   "outputs": [],
   "source": []
  }
 ],
 "metadata": {
  "kernelspec": {
   "display_name": "Python 3 (ipykernel)",
   "language": "python",
   "name": "python3"
  },
  "language_info": {
   "codemirror_mode": {
    "name": "ipython",
    "version": 3
   },
   "file_extension": ".py",
   "mimetype": "text/x-python",
   "name": "python",
   "nbconvert_exporter": "python",
   "pygments_lexer": "ipython3",
   "version": "3.8.8"
  }
 },
 "nbformat": 4,
 "nbformat_minor": 4
}
