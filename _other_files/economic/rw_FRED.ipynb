{
 "cells": [
  {
   "cell_type": "code",
   "execution_count": 5,
   "metadata": {},
   "outputs": [
    {
     "name": "stdout",
     "output_type": "stream",
     "text": [
      "Data saved to economic_data.csv\n"
     ]
    }
   ],
   "source": [
    "import pandas as pd\n",
    "import fredapi as fa\n",
    "import datetime\n",
    "\n",
    "# Replace 'YOUR_API_KEY' with your actual FRED API key\n",
    "fred = fa.Fred(api_key='e9303bfcd5402513ec5a86a170271114')\n",
    "\n",
    "# Define the series IDs for the variables we want\n",
    "series_ids = {\n",
    "    'C': 'PCE',  # Personal Consumption Expenditures\n",
    "    'I': 'GPDI',  # Gross Private Domestic Investment\n",
    "    'U': 'UNRATE',  # Unemployment Rate\n",
    "    'Y': 'GDP',  # Gross Domestic Product\n",
    "    'P': 'CPIAUCSL',  # Consumer Price Index for All Urban Consumers: All Items\n",
    "    'R': 'FEDFUNDS'  # Effective Federal Funds Rate\n",
    "}\n",
    "\n",
    "# Set the date range\n",
    "start_date = datetime.date(1959, 1, 1)\n",
    "end_date = datetime.date(2014, 4, 30)\n",
    "\n",
    "# Fetch data for each series\n",
    "data = {}\n",
    "for var, series_id in series_ids.items():\n",
    "    series = fred.get_series(series_id, start_date, end_date, frequency='q')\n",
    "    data[var] = series\n",
    "\n",
    "# Combine all series into a single DataFrame\n",
    "df = pd.DataFrame(data)\n",
    "\n",
    "# Add a name to the index\n",
    "df.index.name = 'Date'\n",
    "\n",
    "# Save to CSV\n",
    "df.to_csv('economic_data.csv')\n",
    "\n",
    "print(\"Data saved to economic_data.csv\")"
   ]
  }
 ],
 "metadata": {
  "kernelspec": {
   "display_name": ".venv",
   "language": "python",
   "name": "python3"
  },
  "language_info": {
   "codemirror_mode": {
    "name": "ipython",
    "version": 3
   },
   "file_extension": ".py",
   "mimetype": "text/x-python",
   "name": "python",
   "nbconvert_exporter": "python",
   "pygments_lexer": "ipython3",
   "version": "3.8.8"
  }
 },
 "nbformat": 4,
 "nbformat_minor": 2
}
