{
 "cells": [
  {
   "cell_type": "code",
   "execution_count": 3,
   "metadata": {},
   "outputs": [],
   "source": [
    "import numpy as np\n",
    "import pandas as pd\n",
    "from scipy import stats\n",
    "\n",
    "# Set random seed for reproducibility\n",
    "np.random.seed(42)\n",
    "\n",
    "# Create real-world data\n",
    "T = 200  # Number of time periods\n",
    "K = 6  # Number of variables (C, I, U, Y, P, R)\n",
    "\n",
    "def generate_data(T, K, noise_level=0.1, non_gaussian=False):\n",
    "    data = np.zeros((T, K))\n",
    "    \n",
    "    if non_gaussian:\n",
    "        # C: Consumption (log-normal distribution)\n",
    "        data[:, 0] = np.exp(np.cumsum(np.random.normal(0.02, 0.05, T))) + 100\n",
    "        \n",
    "        # I: Investment (mixture of two normal distributions)\n",
    "        data[:, 1] = np.where(np.random.rand(T) > 0.7, \n",
    "                              np.random.normal(70, 10, T), \n",
    "                              np.random.normal(40, 5, T))\n",
    "        \n",
    "        # U: Unemployment (beta distribution)\n",
    "        data[:, 2] = stats.beta.rvs(2, 5, size=T) * 15\n",
    "        \n",
    "        # Y: GDP (student's t-distribution)\n",
    "        data[:, 3] = stats.t.rvs(df=3, loc=300, scale=20, size=T)\n",
    "        \n",
    "        # P: Price Index (gamma distribution)\n",
    "        data[:, 4] = stats.gamma.rvs(a=2, loc=100, scale=2, size=T)\n",
    "        \n",
    "        # R: Interest Rate (mixture of normal and exponential)\n",
    "        data[:, 5] = np.where(np.random.rand(T) > 0.8, \n",
    "                              stats.expon.rvs(loc=0, scale=2, size=T),\n",
    "                              np.random.normal(2, 0.5, T))\n",
    "    else:\n",
    "        # Original Gaussian version\n",
    "        data[:, 0] = np.cumsum(np.random.normal(0.5, 0.1, T)) + 100\n",
    "        data[:, 1] = np.cumsum(np.random.normal(0.3, 0.2, T)) + 50\n",
    "        data[:, 2] = 5 + np.random.normal(0, 0.5, T)\n",
    "        data[:, 3] = data[:, 0] + data[:, 1] + np.random.normal(0, 5, T) + 200\n",
    "        data[:, 4] = np.cumsum(np.random.normal(0.02, 0.005, T)) + 100\n",
    "        data[:, 5] = 2 + 0.5 * np.sin(np.linspace(0, 4*np.pi, T)) + np.random.normal(0, 0.25, T)\n",
    "    \n",
    "    # Add some noise\n",
    "    data += np.random.normal(0, noise_level, (T, K))\n",
    "    \n",
    "    # Ensure non-negative values for certain variables\n",
    "    data[:, 2] = np.clip(data[:, 2], 0, 100)  # Unemployment can't be negative or over 100%\n",
    "    data[:, 4] = np.clip(data[:, 4], 0, None)  # Price index can't be negative\n",
    "    data[:, 5] = np.clip(data[:, 5], 0, None)  # Interest rate can't be negative\n",
    "    \n",
    "    return data"
   ]
  },
  {
   "cell_type": "markdown",
   "metadata": {},
   "source": [
    "### Generate Gaussian Datasets"
   ]
  },
  {
   "cell_type": "code",
   "execution_count": 4,
   "metadata": {},
   "outputs": [
    {
     "name": "stdout",
     "output_type": "stream",
     "text": [
      "Gaussian datasets have been created and saved to CSV files.\n"
     ]
    }
   ],
   "source": [
    "# Generate real-world data (Gaussian)\n",
    "RW_data = generate_data(T, K, non_gaussian=False)\n",
    "\n",
    "# Generate 10 Monte Carlo simulations of ABM data (Gaussian)\n",
    "M = 10  # Number of Monte Carlo simulations\n",
    "AB_data = np.array([generate_data(T, K, noise_level=0.15, non_gaussian=False) for _ in range(M)])\n",
    "\n",
    "# Convert to pandas DataFrames\n",
    "columns = ['C', 'I', 'U', 'Y', 'P', 'R']\n",
    "RW_df = pd.DataFrame(RW_data, columns=columns)\n",
    "AB_dfs = [pd.DataFrame(AB_data[i], columns=columns) for i in range(M)]\n",
    "\n",
    "# Save to CSV files\n",
    "RW_df.to_csv('rw_data_gaussian.csv', index=False)\n",
    "for i, df in enumerate(AB_dfs):\n",
    "    df.to_csv(f'abm_data_{i+1}_gaussian.csv', index=False)\n",
    "\n",
    "print(\"Gaussian datasets have been created and saved to CSV files.\")"
   ]
  },
  {
   "cell_type": "markdown",
   "metadata": {},
   "source": [
    "### Generate Non-Gaussian Datasets"
   ]
  },
  {
   "cell_type": "code",
   "execution_count": 5,
   "metadata": {},
   "outputs": [
    {
     "name": "stdout",
     "output_type": "stream",
     "text": [
      "Non-Gaussian datasets have been created and saved to CSV files.\n"
     ]
    }
   ],
   "source": [
    "# Generate real-world data (non-Gaussian)\n",
    "RW_data = generate_data(T, K, non_gaussian=True)\n",
    "\n",
    "# Generate 10 Monte Carlo simulations of ABM data (non-Gaussian)\n",
    "M = 10  # Number of Monte Carlo simulations\n",
    "AB_data = np.array([generate_data(T, K, noise_level=0.15, non_gaussian=True) for _ in range(M)])\n",
    "\n",
    "# Convert to pandas DataFrames\n",
    "columns = ['C', 'I', 'U', 'Y', 'P', 'R']\n",
    "RW_df = pd.DataFrame(RW_data, columns=columns)\n",
    "AB_dfs = [pd.DataFrame(AB_data[i], columns=columns) for i in range(M)]\n",
    "\n",
    "# Save to CSV files\n",
    "RW_df.to_csv('rw_data_non_gaussian.csv', index=False)\n",
    "for i, df in enumerate(AB_dfs):\n",
    "    df.to_csv(f'abm_data_{i+1}_non_gaussian.csv', index=False)\n",
    "\n",
    "print(\"Non-Gaussian datasets have been created and saved to CSV files.\")"
   ]
  }
 ],
 "metadata": {
  "kernelspec": {
   "display_name": ".venv",
   "language": "python",
   "name": "python3"
  },
  "language_info": {
   "codemirror_mode": {
    "name": "ipython",
    "version": 3
   },
   "file_extension": ".py",
   "mimetype": "text/x-python",
   "name": "python",
   "nbconvert_exporter": "python",
   "pygments_lexer": "ipython3",
   "version": "3.8.8"
  }
 },
 "nbformat": 4,
 "nbformat_minor": 2
}
